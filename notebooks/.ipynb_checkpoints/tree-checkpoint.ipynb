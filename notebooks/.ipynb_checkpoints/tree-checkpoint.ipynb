{
 "cells": [
  {
   "cell_type": "code",
   "execution_count": 1,
   "metadata": {},
   "outputs": [],
   "source": [
    "from ml.tree import DecisionTreeClassifier"
   ]
  },
  {
   "cell_type": "code",
   "execution_count": 2,
   "metadata": {},
   "outputs": [],
   "source": [
    "import numpy as np"
   ]
  },
  {
   "cell_type": "code",
   "execution_count": 3,
   "metadata": {},
   "outputs": [],
   "source": [
    "data = np.array([['Sunny','Hot','High','Weak'],\\\n",
    "                 ['Sunny','Hot','High','Strong'],\\\n",
    "                 ['Overcast','Hot','High','Weak'],\\\n",
    "                 ['Rain','Mild','High','Weak'],\\\n",
    "                 ['Rain','Cool','Normal','Weak'],\\\n",
    "                 ['Rain','Cool','Normal','Strong'],\\\n",
    "                 ['Overcast','Cool','Normal','Strong'],\\\n",
    "                 ['Sunny','Mild','High','Weak'],\\\n",
    "                 ['Sunny','Cool','Normal','Weak'],\\\n",
    "                 ['Rain','Mild','Normal','Weak'],\\\n",
    "                 ['Sunny','Mild','Normal','Strong'],\\\n",
    "                 ['Overcast','Mild','High','Strong'],\\\n",
    "                 ['Overcast','Hot','Normal','Weak'],\\\n",
    "                 ['Rain','Mild','High','Strong']])"
   ]
  },
  {
   "cell_type": "code",
   "execution_count": 4,
   "metadata": {},
   "outputs": [],
   "source": [
    "target = np.array(['No','No','Yes','Yes','Yes','No','Yes','No','Yes','Yes','Yes','Yes','Yes','No'])"
   ]
  },
  {
   "cell_type": "code",
   "execution_count": 5,
   "metadata": {},
   "outputs": [],
   "source": [
    "tree = DecisionTreeClassifier().fit(data, target)"
   ]
  },
  {
   "cell_type": "code",
   "execution_count": 6,
   "metadata": {},
   "outputs": [
    {
     "name": "stdout",
     "output_type": "stream",
     "text": [
      "{0: {'Overcast': 'Yes', 'Rain': {3: {'Strong': 'No', 'Weak': 'Yes'}}, 'Sunny': {2: {'High': 'No', 'Normal': 'Yes'}}}}\n"
     ]
    }
   ],
   "source": [
    "print(tree.tree)"
   ]
  },
  {
   "cell_type": "code",
   "execution_count": 7,
   "metadata": {},
   "outputs": [
    {
     "data": {
      "text/plain": [
       "'No'"
      ]
     },
     "execution_count": 7,
     "metadata": {},
     "output_type": "execute_result"
    }
   ],
   "source": [
    "tree.predict(np.array(['Rain','Mild','High','Strong']))"
   ]
  },
  {
   "cell_type": "code",
   "execution_count": null,
   "metadata": {},
   "outputs": [],
   "source": []
  }
 ],
 "metadata": {
  "kernelspec": {
   "display_name": "Python 3",
   "language": "python",
   "name": "python3"
  },
  "language_info": {
   "codemirror_mode": {
    "name": "ipython",
    "version": 3
   },
   "file_extension": ".py",
   "mimetype": "text/x-python",
   "name": "python",
   "nbconvert_exporter": "python",
   "pygments_lexer": "ipython3",
   "version": "3.7.0"
  }
 },
 "nbformat": 4,
 "nbformat_minor": 2
}
